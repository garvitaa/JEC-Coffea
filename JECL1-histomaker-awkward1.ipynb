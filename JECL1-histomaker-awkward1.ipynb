{
 "cells": [
  {
   "cell_type": "markdown",
   "id": "68f69bd1-4449-4c8e-8361-2545f4fdfcdf",
   "metadata": {},
   "source": [
    "# Implementing L1RC in coffea"
   ]
  },
  {
   "cell_type": "code",
   "execution_count": 1,
   "id": "5b142413-fe5e-4fff-8408-12329ae8e303",
   "metadata": {},
   "outputs": [],
   "source": [
    "import coffea\n",
    "from coffea import hist, processor\n",
    "import coffea\n",
    "import time\n",
    "import uproot\n",
    "import awkward as ak\n",
    "import numpy as np\n",
    "import coffea.hist as hist\n",
    "from scipy import stats\n",
    "\n",
    "from scipy.ndimage.interpolation import shift\n",
    "from scipy import ndimage\n",
    "from numba import jit\n",
    "import pandas as pd\n",
    "\n",
    "import warnings\n",
    "warnings.filterwarnings(\"ignore\")"
   ]
  },
  {
   "cell_type": "code",
   "execution_count": 2,
   "id": "2d120df1-e934-47be-9f42-b6b352af5542",
   "metadata": {},
   "outputs": [],
   "source": [
    "from calcOffset import *"
   ]
  },
  {
   "cell_type": "code",
   "execution_count": 3,
   "id": "6cabfe17-8cd0-42c8-9132-6297548eaa70",
   "metadata": {},
   "outputs": [],
   "source": [
    "class Histomaker(processor.ProcessorABC):\n",
    "    def __init__(self, weights=[]):\n",
    "        self.R = 0.4\n",
    "        self.mucut = 0\n",
    "        self._weights = weights\n",
    "        self.MAXNPV = 100\n",
    "        self.MAXNPU = 100\n",
    "        self.MAXRHO = 100\n",
    "        self.nEta = 82\n",
    "        self.etabins = np.array([-5.191, -4.889, -4.716, -4.538, -4.363, -4.191, -4.013, -3.839, -3.664,-3.489, -3.314, -3.139, -2.964,\n",
    "                                 -2.853, -2.65, -2.5, -2.322, -2.172, -2.043, -1.93, -1.83, -1.74, -1.653, -1.566, -1.479, -1.392, -1.305,\n",
    "                                 -1.218, -1.131, -1.044, -0.957, -0.879, -0.783, -0.696, -0.609, -0.522, -0.435, -0.348, -0.261, -0.174,\n",
    "                                 -0.087, 0, 0.087, 0.174, 0.261, 0.348,0.435, 0.522, 0.609, 0.696, 0.783, 0.879, 0.957, 1.044, 1.131,1.218,\n",
    "                                 1.305, 1.392, 1.479,1.566, 1.653, 1.74, 1.83, 1.93, 2.043, 2.172,2.322, 2.5, 2.65, 2.853, 2.964, 3.139,\n",
    "                                 3.314, 3.489, 3.664, 3.839, 4.013, 4.191, 4.363, 4.538, 4.716, 4.889, 5.191])\n",
    "        dataset_axis = hist.Cat(\"dataset\", \"Dataset\")\n",
    "        flavor_axis = hist.Cat(\"flavor\", \"PF Flavor\")\n",
    "        nPU_axis = hist.Bin(\"nPU\", \"mu\", 2*self.MAXNPU, 0, self.MAXNPU)\n",
    "        nPV_axis = hist.Bin(\"nPV\", \"nPV\", 2*self.MAXNPV, 0, self.MAXNPV)\n",
    "        rho_axis = hist.Bin(\"rho\", \"rho\", 2*self.MAXRHO, 0, self.MAXRHO)\n",
    "        eta_axis = hist.Bin(\"eta\", \"eta\", self.etabins) \n",
    "        \n",
    "        self._accumulator = processor.dict_accumulator({\n",
    "            \"sumw\": processor.defaultdict_accumulator(float),\n",
    "            \"nPU\": hist.Hist(\"Events\", dataset_axis, nPU_axis ),\n",
    "            \"nPV\": hist.Hist(\"Events\", dataset_axis, nPV_axis),\n",
    "            \"rho\": hist.Hist(\"Events\", dataset_axis, rho_axis),\n",
    "            \n",
    "            \"p_nPV_nPU\": hist.Hist(\"Events\", dataset_axis, nPU_axis ),\n",
    "            \"p_rho_nPU\": hist.Hist(\"Events\", dataset_axis, nPU_axis ),\n",
    "            \n",
    "            \"p_offsetpT_geo_eta_nPU_flavor\": hist.Hist(\"Events\", dataset_axis, flavor_axis, nPU_axis,  eta_axis),\n",
    "            \"h_offsetpT_eta_nPU_flavor\": hist.Hist(\"Events\", dataset_axis, flavor_axis, nPU_axis,  eta_axis),\n",
    "            \"p_offsetpT_eta_nPU_flavor\": hist.Hist(\"Events\", dataset_axis, flavor_axis, nPU_axis,  eta_axis),\n",
    "            \n",
    "            # Column accumulators for using hist package\n",
    "            'PUweight': processor.dict_accumulator({\n",
    "                \"Data\": processor.column_accumulator(np.zeros(shape=(0))),\n",
    "                \"MC\": processor.column_accumulator(np.zeros(shape=(0))),\n",
    "            }),\n",
    "            'nPU_c': processor.dict_accumulator({\n",
    "                \"Data\": processor.column_accumulator(np.zeros(shape=(0))),\n",
    "                \"MC\": processor.column_accumulator(np.zeros(shape=(0))),\n",
    "            }),\n",
    "            'nPV_c': processor.dict_accumulator({\n",
    "                \"Data\": processor.column_accumulator(np.zeros(shape=(0))),\n",
    "                \"MC\": processor.column_accumulator(np.zeros(shape=(0))),\n",
    "            }),\n",
    "            'rho_c': processor.dict_accumulator({\n",
    "                \"Data\": processor.column_accumulator(np.zeros(shape=(0))),\n",
    "                \"MC\": processor.column_accumulator(np.zeros(shape=(0))),\n",
    "            }),\n",
    "        })\n",
    "\n",
    "    @property\n",
    "    def accumulator(self):\n",
    "        return self._accumulator\n",
    "\n",
    "    def process(self, df):\n",
    "        output = self.accumulator.identity()\n",
    "        dataset = df.metadata['dataset']\n",
    "        output[\"sumw\"][dataset] += len(df)\n",
    "\n",
    "        mu = df['mu']\n",
    "        rho = df['rho']\n",
    "        nPV = df['nPV']\n",
    "        \n",
    "        weight = np.ones_like(mu)\n",
    "        if (dataset=='MC'):\n",
    "            index = np.digitize(ak.to_numpy(mu),np.linspace(0,self.MAXNPU, num=2*self.MAXNPU+1))\n",
    "            weight = self._weights[index-1]\n",
    "            \n",
    "        output[\"nPU\"].fill(dataset=dataset, nPU=mu, weight=weight)\n",
    "        output[\"nPV\"].fill(dataset=dataset, nPV=nPV, weight=weight)\n",
    "        output[\"rho\"].fill(dataset=dataset, rho=rho, weight=weight)\n",
    "        output[\"p_nPV_nPU\"].fill(dataset=dataset, nPU=mu, weight=weight*nPV)\n",
    "        output[\"p_rho_nPU\"].fill(dataset=dataset, nPU=mu, weight=weight*rho)\n",
    "        \n",
    "        output['PUweight'][dataset] += processor.column_accumulator(ak.to_numpy(weight))\n",
    "        output['nPU_c'][dataset] += processor.column_accumulator(ak.to_numpy(mu))\n",
    "        output['nPV_c'][dataset] += processor.column_accumulator(ak.to_numpy(nPV))\n",
    "        output['rho_c'][dataset] += processor.column_accumulator(ak.to_numpy(rho))\n",
    "\n",
    "        energy = df['energy']\n",
    "        ids = ['nh', 'ne','chm', 'chu', 'hfh', 'hfe', 'lep', 'untrk']\n",
    "        \n",
    "        ## Calculating RC and geometric offset - output shape is (100,82) for each particle type.\n",
    "        \n",
    "        for i in range(len(ids)):\n",
    "            geo_offset = calcGeometricOffset(self.R, energy, df['f'+ids[i]], mu, self.mucut)\n",
    "            rc_offset = calcOffsetRC(self.R, energy, df['f'+ids[i]])\n",
    "            for ieta in range(self.nEta):            \n",
    "                rc_weight_offset = rc_offset[:,ieta]*weight\n",
    "                weight_offset = geo_offset[:,ieta]*weight\n",
    "                output[\"h_offsetpT_eta_nPU_flavor\"].fill(dataset=dataset, flavor=ids[i],\n",
    "                                                         nPU=mu, eta=etaC[ieta],\n",
    "                                                         weight = weight)\n",
    "                output[\"p_offsetpT_eta_nPU_flavor\"].fill(dataset=dataset, flavor=ids[i],\n",
    "                                                         nPU=mu, eta=etaC[ieta],\n",
    "                                                         weight=rc_weight_offset)\n",
    "                output[\"p_offsetpT_geo_eta_nPU_flavor\"].fill(dataset=dataset, flavor=ids[i],\n",
    "                                                             nPU=mu, eta=etaC[ieta],\n",
    "                                                             weight=weight_offset)\n",
    "        \n",
    "        return output\n",
    "\n",
    "    def postprocess(self, accumulator):\n",
    "        return accumulator"
   ]
  },
  {
   "cell_type": "code",
   "execution_count": 4,
   "id": "a4db50d1-d805-45a4-bdd7-cd67f5e70060",
   "metadata": {},
   "outputs": [],
   "source": [
    "datafile='./Total_Data_UL2017_skimmed.root'\n",
    "mcfile='./Total_MC_UL2017_skimmed.root'"
   ]
  },
  {
   "cell_type": "code",
   "execution_count": 5,
   "id": "27175530-3f35-46ff-8fe2-bedd385d507a",
   "metadata": {},
   "outputs": [
    {
     "name": "stdout",
     "output_type": "stream",
     "text": [
      "Time:  0.019112586975097656\n"
     ]
    },
    {
     "data": {
      "application/vnd.jupyter.widget-view+json": {
       "model_id": "08a0ecd4b034438997c1e1ab43a983b7",
       "version_major": 2,
       "version_minor": 0
      },
      "text/plain": [
       "Preprocessing:   0%|          | 0/2 [00:00<?, ?file/s]"
      ]
     },
     "metadata": {},
     "output_type": "display_data"
    },
    {
     "data": {
      "application/vnd.jupyter.widget-view+json": {
       "model_id": "49a226279e2343a5b92f727c5685209b",
       "version_major": 2,
       "version_minor": 0
      },
      "text/plain": [
       "Processing:   0%|          | 0/2 [00:00<?, ?chunk/s]"
      ]
     },
     "metadata": {},
     "output_type": "display_data"
    },
    {
     "name": "stdout",
     "output_type": "stream",
     "text": [
      "Output: {'sumw': defaultdict_accumulator(<class 'float'>, {'MC': 40639.0, 'Data': 100620.0}), 'nPU': <Hist (dataset,nPU) instance at 0x7f2f071175e0>, 'nPV': <Hist (dataset,nPV) instance at 0x7f30d8fa1ac0>, 'rho': <Hist (dataset,rho) instance at 0x7f30d8fa1af0>, 'p_nPV_nPU': <Hist (dataset,nPU) instance at 0x7f30d8fb20d0>, 'p_rho_nPU': <Hist (dataset,nPU) instance at 0x7f30d8fb2100>, 'p_offsetpT_geo_eta_nPU_flavor': <Hist (dataset,flavor,nPU,eta) instance at 0x7f30d8fb20a0>, 'h_offsetpT_eta_nPU_flavor': <Hist (dataset,flavor,nPU,eta) instance at 0x7f30d8fb2130>, 'p_offsetpT_eta_nPU_flavor': <Hist (dataset,flavor,nPU,eta) instance at 0x7f30d8fb2160>, 'PUweight': {'Data': column_accumulator(array([1., 1., 1., ..., 1., 1., 1.])), 'MC': column_accumulator(array([0.05322339, 0.0557971 , 0.06266334, ..., 0.0612567 , 0.06581401,\n",
      "       0.05419983]))}, 'nPU_c': {'Data': column_accumulator(array([25.51611519, 32.88453293, 32.88453293, ..., 26.30153656,\n",
      "       26.27523994, 26.25378799])), 'MC': column_accumulator(array([14.29620647, 29.29900169, 24.89060402, ..., 23.4414444 ,\n",
      "       19.40864563, 33.56676483]))}, 'nPV_c': {'Data': column_accumulator(array([18., 22., 22., ..., 12., 14., 17.])), 'MC': column_accumulator(array([ 8., 16., 19., ..., 16., 14., 24.]))}, 'rho_c': {'Data': column_accumulator(array([15.82058144, 14.58738518, 16.80168915, ..., 11.32827187,\n",
      "       12.66702175, 12.34275341])), 'MC': column_accumulator(array([ 4.39716148, 12.45415592, 12.23185062, ..., 10.69932747,\n",
      "        8.5305624 , 15.02477455]))}}\n",
      "Finished in 52.3s\n"
     ]
    }
   ],
   "source": [
    "data = uproot.open(datafile)[\"T\"]\n",
    "MC = uproot.open(mcfile)[\"T\"]\n",
    "\n",
    "weights = getWeights(data, MC)\n",
    "\n",
    "fileset = {\n",
    "    'Data': [datafile],\n",
    "    'MC': [mcfile]\n",
    "}\n",
    "tic = time.time()\n",
    "output = processor.run_uproot_job(\n",
    "    fileset,\n",
    "    treename=\"T\",\n",
    "    processor_instance=Histomaker(weights=weights),\n",
    "    executor=processor.futures_executor,\n",
    "    executor_args={'workers':4},\n",
    ")\n",
    "\n",
    "elapsed = time.time() - tic\n",
    "print(f\"Output: {output}\")\n",
    "print(f\"Finished in {elapsed:.1f}s\")"
   ]
  },
  {
   "cell_type": "code",
   "execution_count": 6,
   "id": "efce5a20-c7d8-4f66-a3d8-47bbcf2e679f",
   "metadata": {},
   "outputs": [],
   "source": [
    "from matplotlib import gridspec\n",
    "#%matplotlib inline\n",
    "import matplotlib.pyplot as plt\n",
    "import mplhep as hep"
   ]
  },
  {
   "cell_type": "code",
   "execution_count": 7,
   "id": "d7cd8e3f-a974-4687-b62a-daf83632b582",
   "metadata": {},
   "outputs": [],
   "source": [
    "plt.ioff()\n",
    "plt.style.use(hep.style.ROOT)\n",
    "plt.rc('font', family='serif')\n",
    "plt.rcParams.update({\n",
    "            'font.size': 14,\n",
    "            'axes.titlesize': 18,\n",
    "            'axes.labelsize': 18,\n",
    "            'xtick.labelsize': 12,\n",
    "            'ytick.labelsize': 12\n",
    "        })"
   ]
  },
  {
   "cell_type": "code",
   "execution_count": 8,
   "id": "04ce9641-9981-4e9e-afc4-76dd78e65971",
   "metadata": {},
   "outputs": [],
   "source": [
    "from plotting import *"
   ]
  },
  {
   "cell_type": "code",
   "execution_count": 9,
   "id": "97c8a0de-fa54-4402-a40a-95369f29a619",
   "metadata": {},
   "outputs": [],
   "source": [
    "plotHist(output, 'nPU', r'$\\mu$')\n",
    "plotHist(output, 'nPV', r'$n_{PV}$')\n",
    "plotHist(output, 'rho', r'$\\rho$')"
   ]
  },
  {
   "cell_type": "code",
   "execution_count": 10,
   "id": "11d9ab94-bc55-4c2c-a057-180f46ac8f57",
   "metadata": {},
   "outputs": [],
   "source": [
    "plotProfile(output, 'nPU', 'p_rho_nPU', 10, 52, r'$\\mu$', r'$\\rho$')\n",
    "plotProfile(output, 'nPU', 'p_nPV_nPU', 10, 52, r'$\\mu$', r'$n_{PV}$')"
   ]
  },
  {
   "cell_type": "code",
   "execution_count": 11,
   "id": "4df687aa-9285-4133-b8f5-ed299185838d",
   "metadata": {},
   "outputs": [],
   "source": [
    "# plt.rcParams['figure.dpi'] = 120"
   ]
  },
  {
   "cell_type": "code",
   "execution_count": 12,
   "id": "54ba5e16-38a5-4308-882c-ce23395ed8ad",
   "metadata": {},
   "outputs": [],
   "source": [
    "# fitProfile(output, 'nPU', 'p_offsetpT_eta_nPU_flavor', 'h_offsetpT_eta_nPU_flavor', 'p_rho_nPU',\n",
    "#            r'$\\rho$', r\"$<p_{T,offset}(\\pi \\times 0.4^{2})>$\", 40, 10, 52)\n",
    "# fitProfile(output, 'nPU', 'p_offsetpT_eta_nPU_flavor', 'h_offsetpT_eta_nPU_flavor', 'p_rho_nPU',\n",
    "#            r'$\\rho$', r\"$<p_{T,offset}(\\pi \\times 0.4^{2})>$\", 72, 10, 52)\n",
    "# fitProfile(output, 'nPU', 'p_offsetpT_eta_nPU_flavor', 'h_offsetpT_eta_nPU_flavor', 'p_rho_nPU',\n",
    "#            r'$\\rho$', r\"$<p_{T,offset}(\\pi \\times 0.4^{2})>$\", 80, 10, 52)"
   ]
  },
  {
   "cell_type": "code",
   "execution_count": 13,
   "id": "8a74352a-259c-4404-a974-0924612463e4",
   "metadata": {},
   "outputs": [],
   "source": [
    "L1RCtxtfile(output, 'nPU', 'p_offsetpT_eta_nPU_flavor', 'h_offsetpT_eta_nPU_flavor', 'p_rho_nPU',\n",
    "           r'$\\rho$', r\"$<p_{T,offset}(\\pi \\times 0.4^{2})>$\", 10, 52, 0.4, \"Summer19UL18_RunA_V3\")"
   ]
  },
  {
   "cell_type": "code",
   "execution_count": 14,
   "id": "adaadd9f-09b0-47f9-9a9e-b487343d28f9",
   "metadata": {},
   "outputs": [
    {
     "name": "stderr",
     "output_type": "stream",
     "text": [
      "No handles with labels found to put in legend.\n"
     ]
    }
   ],
   "source": [
    "plotStack(output, 'eta', 'p_offsetpT_eta_nPU_flavor', 'nPU', 30, 31, r\"$<p_{T,offset}(\\pi \\times 0.4^{2})> / <\\mu>$\",'all', 0.8, False)\n",
    "plotStack(output, 'eta', 'p_offsetpT_geo_eta_nPU_flavor', 'nPU', 30, 31, r\"$<E_{T,offset}(\\pi \\times 0.4^{2})> / <\\mu>$\",'all', 0.8, True)"
   ]
  },
  {
   "cell_type": "code",
   "execution_count": 15,
   "id": "5e859dbd-6c03-4dba-bf2b-b4fdad85e465",
   "metadata": {},
   "outputs": [],
   "source": [
    "plotStack(output, 'eta', 'p_offsetpT_eta_nPU_flavor', 'nPU', 30, 31, r\"$<p_{T,offset}(\\pi \\times 0.4^{2})> / <\\mu>$\",'chm', 0.5, True)\n",
    "plotStack(output, 'eta', 'p_offsetpT_eta_nPU_flavor', 'nPU', 30, 31, r\"$<p_{T,offset}(\\pi \\times 0.4^{2})> / <\\mu>$\",'hfe', 0.5, True)"
   ]
  },
  {
   "cell_type": "code",
   "execution_count": 16,
   "id": "2ab93882-718d-44be-afc4-d105e1c01229",
   "metadata": {},
   "outputs": [],
   "source": [
    "plotStack(output, 'eta', 'p_offsetpT_geo_eta_nPU_flavor', 'nPU', 30, 31, r\"$<E_{T,offset}(\\pi \\times 0.4^{2})> / <\\mu>$\",'chm', 0.5, True)\n",
    "plotStack(output, 'eta', 'p_offsetpT_geo_eta_nPU_flavor', 'nPU', 30, 31, r\"$<E_{T,offset}(\\pi \\times 0.4^{2})> / <\\mu>$\",'hfe', 0.5, True)"
   ]
  },
  {
   "cell_type": "markdown",
   "id": "d685aef8-889b-4ed6-a3a2-88b09e99c45b",
   "metadata": {},
   "source": [
    "# Using hist package for plotting"
   ]
  },
  {
   "cell_type": "code",
   "execution_count": 17,
   "id": "1c120ef9-c315-4cad-b7ca-d10f15e55b47",
   "metadata": {},
   "outputs": [],
   "source": [
    "import hist as histo\n",
    "from hist import Hist\n",
    "%matplotlib inline"
   ]
  },
  {
   "cell_type": "code",
   "execution_count": 18,
   "id": "f724453f-ede1-4c5c-a31a-a325bde600cf",
   "metadata": {},
   "outputs": [],
   "source": [
    "nPU_axis = histo.axis.Regular(bins=200, start=0, stop=100, name=\"mu\", label=r'$\\mu$')\n",
    "nPV_axis = histo.axis.Regular(bins=200, start=0, stop=100, name=\"npv\", label='nPV')\n",
    "rho_axis = histo.axis.Regular(bins=200, start=0, stop=100, name=\"rho\", label=r'$\\rho$')\n",
    "dataset_axis = histo.axis.StrCategory([\"Data\", \"MC\"], name=\"dataset\")"
   ]
  },
  {
   "cell_type": "code",
   "execution_count": 19,
   "id": "4a37f057-4471-4f00-a56e-8daade472180",
   "metadata": {},
   "outputs": [
    {
     "data": {
      "image/png": "[encoded data removed]",
      "text/plain": [
       "<Figure size 432x288 with 1 Axes>"
      ]
     },
     "metadata": {
      "needs_background": "light"
     },
     "output_type": "display_data"
    }
   ],
   "source": [
    "hist1 = Hist(nPU_axis, dataset_axis)\n",
    "hist1.fill(mu=output['nPU_c']['Data'].value, dataset=\"Data\", weight=output['PUweight']['Data'].value)\n",
    "hist1.fill(mu=output['nPU_c']['MC'].value, dataset=\"MC\", weight = output['PUweight']['MC'].value)\n",
    "hist1.plot1d(density=True)\n",
    "plt.legend()\n",
    "plt.show()"
   ]
  },
  {
   "cell_type": "code",
   "execution_count": 20,
   "id": "001071be-c571-49f2-a321-e22b1fac310e",
   "metadata": {},
   "outputs": [],
   "source": [
    "hist3 = Hist(nPU_axis, nPV_axis, dataset_axis)\n",
    "hist3.fill(mu=output['nPU_c']['Data'].value, npv=output['nPV_c']['Data'].value, dataset=\"Data\", weight=output['PUweight']['Data'].value)\n",
    "hist3.fill(mu=output['nPU_c']['MC'].value, npv=output['nPV_c']['MC'].value, dataset=\"MC\", weight=output['PUweight']['MC'].value)\n",
    "hp3 = hist3.profile(\"npv\")"
   ]
  },
  {
   "cell_type": "code",
   "execution_count": 21,
   "id": "f39d1126-78c7-4b0a-bf7c-ea94804122f1",
   "metadata": {},
   "outputs": [
    {
     "data": {
      "image/png": "[encoded data removed]",
      "text/plain": [
       "<Figure size 360x360 with 2 Axes>"
      ]
     },
     "metadata": {
      "needs_background": "light"
     },
     "output_type": "display_data"
    }
   ],
   "source": [
    "fig, (ax, rax) = plt.subplots(\n",
    "        nrows=2,\n",
    "        ncols=1,\n",
    "        figsize=(5,5),\n",
    "        gridspec_kw={\"height_ratios\": (3, 1)},\n",
    "        sharex=True\n",
    "    )\n",
    "fig.subplots_adjust(hspace=.07)\n",
    "x = np.arange(0,100,0.5)\n",
    "ax.errorbar(x, hp3.view().value[:,0], yerr=hp3.variances()[:,0], label='Data', fmt='.', mec='red', ecolor='red',color='white', lw=1)\n",
    "ax.errorbar(x, hp3.view().value[:,1], yerr=hp3.variances()[:,1], label='MC', fmt='.', mec='k', color='k', lw=1)\n",
    "rax.scatter(x, (hp3.view().value[:,0])/(hp3.view().value[:,1]), marker='o', facecolors='none', edgecolors='k', s=12)\n",
    "rax.plot(x, np.ones_like(x), linestyle='--', color='gray');\n",
    "rax.set_ylim(0.7, 1.3)\n",
    "rax.set_xlim(0, 60)\n",
    "ax.set_ylim(0, 50)\n",
    "ax.set_xlim(0, 60)\n",
    "ax.set_xlabel(None)\n",
    "ax.set_ylabel('nPV')\n",
    "rax.set_xlabel(r'$\\mu$')\n",
    "rax.set_ylabel('Data/MC')\n",
    "ax.legend(loc='upper left')\n",
    "plt.show()"
   ]
  },
  {
   "cell_type": "code",
   "execution_count": null,
   "id": "ba007dd1-cc79-4919-893e-eef401952ba1",
   "metadata": {},
   "outputs": [],
   "source": []
  }
 ],
 "metadata": {
  "kernelspec": {
   "display_name": "Python 3 (ipykernel)",
   "language": "python",
   "name": "python3"
  },
  "language_info": {
   "codemirror_mode": {
    "name": "ipython",
    "version": 3
   },
   "file_extension": ".py",
   "mimetype": "text/x-python",
   "name": "python",
   "nbconvert_exporter": "python",
   "pygments_lexer": "ipython3",
   "version": "3.8.12"
  }
 },
 "nbformat": 4,
 "nbformat_minor": 5
}
